{
 "cells": [
  {
   "cell_type": "code",
   "execution_count": 95,
   "id": "cbd43fa0",
   "metadata": {},
   "outputs": [],
   "source": [
    "import re\n",
    "import pandas as pd\n",
    "import weapon_dict\n",
    "import secret\n",
    "pd.set_option('display.max_rows', None)"
   ]
  },
  {
   "cell_type": "code",
   "execution_count": 96,
   "id": "db71acf0",
   "metadata": {},
   "outputs": [],
   "source": [
    "file = open(f\"{secret.location}\\Cataphract CTF-2X.txt\").read()\n",
    "list_str = file.split('\\n')\n",
    "list_str = [x for x in list_str if x != '']"
   ]
  },
  {
   "cell_type": "code",
   "execution_count": 97,
   "id": "cb687672-c9a1-4b84-995c-1a89b7c34458",
   "metadata": {
    "tags": []
   },
   "outputs": [],
   "source": [
    "attributes = []\n",
    "weapons = []\n",
    "values_interest = ['Cost','Technology Base','Tonnage:','Battle Value']\n",
    "for i in range(len(list_str)):\n",
    "    for x in values_interest:\n",
    "        if x in list_str[i]:\n",
    "            attributes.append(list_str[i][(len(x+' ')):])\n",
    "            \n",
    "attributes = [s.strip() for s in attributes]\n",
    "attribute_dictionary = dict(zip(values_interest, attributes))           "
   ]
  },
  {
   "cell_type": "code",
   "execution_count": 98,
   "id": "14036a2d-a3ca-4494-8e57-5645e5b3646e",
   "metadata": {},
   "outputs": [
    {
     "data": {
      "text/plain": [
       "{'Cost': '5,877,353 C-bills',\n",
       " 'Technology Base': 'Inner Sphere (Introductory)',\n",
       " 'Tonnage:': '70',\n",
       " 'Battle Value': '1,344'}"
      ]
     },
     "execution_count": 98,
     "metadata": {},
     "output_type": "execute_result"
    }
   ],
   "source": [
    "attribute_dictionary"
   ]
  },
  {
   "cell_type": "code",
   "execution_count": 99,
   "id": "5b612e77-173c-4385-9149-6b7275327665",
   "metadata": {},
   "outputs": [],
   "source": [
    "# Movement dict creation and calculation\n",
    "movement_substr = [i for i in list_str if 'MP' in i]\n",
    "movement_value = [i * 2 for i in ([int(movement_substr[0][13:14]),int(movement_substr[2][13:14])])]\n",
    "movement_key = ['walking', 'jumping']\n",
    "movement_dictionary = dict(zip(movement_key, movement_value))"
   ]
  },
  {
   "cell_type": "code",
   "execution_count": 100,
   "id": "b7bfc368-60cb-431e-b643-8b2b93d19698",
   "metadata": {},
   "outputs": [
    {
     "data": {
      "text/plain": [
       "{'walking': 8, 'jumping': 0}"
      ]
     },
     "execution_count": 100,
     "metadata": {},
     "output_type": "execute_result"
    }
   ],
   "source": [
    "movement_dictionary"
   ]
  },
  {
   "cell_type": "code",
   "execution_count": 101,
   "id": "e56ad548-282c-4a93-a599-dc9341329d6b",
   "metadata": {
    "tags": []
   },
   "outputs": [],
   "source": [
    "# Grabbing the cost elements\n",
    "key_value_pairs = {}\n",
    "current_key = None\n",
    "\n",
    "lines = file.split('\\n')\n",
    "for line in lines:\n",
    "    line = line.strip()\n",
    "    if line:\n",
    "        if ':' in line:\n",
    "            current_key, value = line.split(':', 1)\n",
    "            key_value_pairs[current_key.strip()] = value.strip()\n",
    "        elif current_key is not None:\n",
    "            if current_key == 'Armaments':\n",
    "                if current_key not in key_value_pairs:\n",
    "                    key_value_pairs[current_key] = line.strip()\n",
    "                else:\n",
    "                    key_value_pairs[current_key] += f', {line.strip()}'\n",
    "            else:\n",
    "                key_value_pairs[current_key] += f', {line.strip()}'"
   ]
  },
  {
   "cell_type": "code",
   "execution_count": 102,
   "id": "69f83986-7484-4c48-9fe6-85c5e6fa64f2",
   "metadata": {},
   "outputs": [],
   "source": [
    "# Creating the weapon dictionary\n",
    "keys = ['Armament']\n",
    "dict2 = {x:key_value_pairs[x] for x in keys}\n",
    "weapons = dict2['Armament'].split(',')\n",
    "\n",
    "def strip_list_noempty(mylist):\n",
    "    newlist = (item.strip() if hasattr(item, 'strip') else item for item in mylist)\n",
    "    return [item for item in newlist if item != '']\n",
    "\n",
    "weapons = strip_list_noempty(weapons)\n",
    "\n",
    "weapon_value = []\n",
    "weapon_key = []\n",
    "for i in weapons:\n",
    "    weapon_key.append(i[2:])\n",
    "    weapon_value.append(i[:1])\n",
    "weapon_dict = dict(zip(weapon_key, weapon_value))"
   ]
  },
  {
   "cell_type": "code",
   "execution_count": 103,
   "id": "49b912e8-904e-4071-b739-6d0e01dab895",
   "metadata": {},
   "outputs": [
    {
     "data": {
      "text/plain": [
       "{'Medium Laser': '2', 'SRM 4': '1', 'Large Laser': '1', 'AC/10': '1'}"
      ]
     },
     "execution_count": 103,
     "metadata": {},
     "output_type": "execute_result"
    }
   ],
   "source": [
    "weapon_dict"
   ]
  },
  {
   "cell_type": "code",
   "execution_count": 104,
   "id": "0895318f-7443-473d-bf84-2dc95cd18e89",
   "metadata": {
    "tags": []
   },
   "outputs": [
    {
     "data": {
      "text/plain": [
       "['Cataphract CTF-2X',\n",
       " 'Mass: 70 tons',\n",
       " 'Chassis: Standard Biped',\n",
       " 'Power Plant: 280 Fusion',\n",
       " 'Cruising Speed: 43.2 kph',\n",
       " 'Maximum Speed: 64.8 kph',\n",
       " 'Jump Jets: None',\n",
       " '     Jump Capacity: 0 meters',\n",
       " 'Armor: Standard',\n",
       " 'Armament:',\n",
       " '     2 Medium Laser',\n",
       " '     1 SRM 4',\n",
       " '     1 Large Laser',\n",
       " '     1 AC/10',\n",
       " 'Manufacturer: Unknown',\n",
       " '     Primary Factory: Unknown',\n",
       " 'Communication System: Unknown',\n",
       " 'Targeting & Tracking System: Unknown',\n",
       " 'Introduction Year: 3027',\n",
       " 'Tech Rating/Availability: D/X-E-D-D',\n",
       " 'Cost: 5,877,353 C-bills',\n",
       " 'Type: Cataphract',\n",
       " 'Technology Base: Inner Sphere (Introductory) ',\n",
       " 'Tonnage: 70',\n",
       " 'Battle Value: 1,344',\n",
       " 'Equipment                                          Mass',\n",
       " 'Internal Structure                                    7',\n",
       " 'Engine                        280 Fusion             16',\n",
       " '\\tWalking MP: 4',\n",
       " '\\tRunning MP: 6',\n",
       " '\\tJumping MP: 0',\n",
       " 'Heat Sink                     14                      4',\n",
       " 'Gyro                                                  3',\n",
       " 'Cockpit                                               3',\n",
       " 'Armor Factor                  208                    13',\n",
       " '                          Internal   Armor   ',\n",
       " '                          Structure  Value   ',\n",
       " '     Head                    3         9     ',\n",
       " '     Center Torso            22        30    ',\n",
       " '     Center Torso (rear)               13    ',\n",
       " '     R/L Torso               15        20    ',\n",
       " '     R/L Torso (rear)                  10    ',\n",
       " '     R/L Arm                 11        22    ',\n",
       " '     R/L Leg                 15        26    ',\n",
       " 'Right Arm Actuators: Shoulder, Upper Arm, Lower Arm',\n",
       " 'Left Arm Actuators: Shoulder, Upper Arm, Lower Arm, Hand',\n",
       " 'Weapons',\n",
       " 'and Ammo              Location  Critical   Heat    Tonnage\\t',\n",
       " 'Heat Sink                LL        1        -       1.0   ',\n",
       " 'Medium Laser             RT        1        3       1.0   ',\n",
       " 'AC/10                    RT        7        3       12.0  ',\n",
       " 'SRM 4                    LA        1        3       2.0   ',\n",
       " 'Medium Laser             LT        1        3       1.0   ',\n",
       " 'AC/10 Ammo (20)          LT        2        -       2.0   ',\n",
       " 'SRM 4 Ammo (25)          LT        1        -       1.0   ',\n",
       " '2 Heat Sink              RL        2        -       2.0   ',\n",
       " 'Large Laser              RA        2        8       5.0   ',\n",
       " '\\t',\n",
       " 'Features the following design quirks: Protected Actuators']"
      ]
     },
     "execution_count": 104,
     "metadata": {},
     "output_type": "execute_result"
    }
   ],
   "source": [
    "list_str"
   ]
  },
  {
   "cell_type": "code",
   "execution_count": null,
   "id": "176b729c-1bb3-4bf0-9697-7d73dbb2e48f",
   "metadata": {},
   "outputs": [],
   "source": []
  },
  {
   "cell_type": "code",
   "execution_count": null,
   "id": "1402ffac-b354-4a38-b69d-6a99b4d371a5",
   "metadata": {},
   "outputs": [],
   "source": []
  },
  {
   "cell_type": "code",
   "execution_count": null,
   "id": "103608cd-0477-435b-bc87-d179d019cf46",
   "metadata": {},
   "outputs": [],
   "source": []
  },
  {
   "cell_type": "code",
   "execution_count": null,
   "id": "74921c3a-61da-4b19-a26e-d1f176863217",
   "metadata": {},
   "outputs": [],
   "source": []
  },
  {
   "cell_type": "code",
   "execution_count": null,
   "id": "1a93a68b-1826-4480-92b7-4a4b3f6b3370",
   "metadata": {},
   "outputs": [],
   "source": []
  }
 ],
 "metadata": {
  "kernelspec": {
   "display_name": "Python 3 (ipykernel)",
   "language": "python",
   "name": "python3"
  },
  "language_info": {
   "codemirror_mode": {
    "name": "ipython",
    "version": 3
   },
   "file_extension": ".py",
   "mimetype": "text/x-python",
   "name": "python",
   "nbconvert_exporter": "python",
   "pygments_lexer": "ipython3",
   "version": "3.9.7"
  }
 },
 "nbformat": 4,
 "nbformat_minor": 5
}
