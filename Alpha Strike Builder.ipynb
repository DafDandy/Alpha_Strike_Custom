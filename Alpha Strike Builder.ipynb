{
 "cells": [
  {
   "cell_type": "code",
   "execution_count": 368,
   "id": "cbd43fa0",
   "metadata": {},
   "outputs": [],
   "source": [
    "import re\n",
    "import pandas as pd\n",
    "import weapon_dict\n",
    "import secret\n",
    "pd.set_option('display.max_rows', None)"
   ]
  },
  {
   "cell_type": "code",
   "execution_count": 425,
   "id": "db71acf0",
   "metadata": {},
   "outputs": [],
   "source": [
    "file = open(f\"{secret.location}\\Spider SDR-8Xr.txt\").read()\n",
    "list_str = file.split('\\n')\n",
    "list_str = [x for x in list_str if x != '' and len(x)<=60]"
   ]
  },
  {
   "cell_type": "code",
   "execution_count": 426,
   "id": "cb687672-c9a1-4b84-995c-1a89b7c34458",
   "metadata": {
    "tags": []
   },
   "outputs": [],
   "source": [
    "attributes = []\n",
    "weapons = []\n",
    "values_interest = ['Cost','Technology Base','Tonnage:','Battle Value']\n",
    "for i in range(len(list_str)):\n",
    "    for x in values_interest:\n",
    "        if x in list_str[i]:\n",
    "            attributes.append(list_str[i][(len(x+' ')):])\n",
    "            \n",
    "attributes = [s.strip() for s in attributes]\n",
    "attribute_dictionary = dict(zip(values_interest, attributes))           "
   ]
  },
  {
   "cell_type": "code",
   "execution_count": 427,
   "id": "14036a2d-a3ca-4494-8e57-5645e5b3646e",
   "metadata": {},
   "outputs": [
    {
     "data": {
      "text/plain": [
       "{'Cost': '5,164,965 C-bills',\n",
       " 'Technology Base': 'Inner Sphere (Experimental)',\n",
       " 'Tonnage:': '30',\n",
       " 'Battle Value': '754'}"
      ]
     },
     "execution_count": 427,
     "metadata": {},
     "output_type": "execute_result"
    }
   ],
   "source": [
    "attribute_dictionary"
   ]
  },
  {
   "cell_type": "code",
   "execution_count": 433,
   "id": "5b612e77-173c-4385-9149-6b7275327665",
   "metadata": {},
   "outputs": [],
   "source": [
    "# Movement dict creation and calculation\n",
    "movement_substr = [i for i in list_str if 'MP' in i]\n",
    "movement_value = [i * 2 for i in ([int(movement_substr[0][13:15]),int(movement_substr[2][13:15])])]\n",
    "movement_key = ['walking', 'jumping']\n",
    "movement_dictionary = dict(zip(movement_key, movement_value))"
   ]
  },
  {
   "cell_type": "code",
   "execution_count": 437,
   "id": "b7bfc368-60cb-431e-b643-8b2b93d19698",
   "metadata": {},
   "outputs": [
    {
     "data": {
      "text/plain": [
       "{'walking': 16, 'jumping': 20}"
      ]
     },
     "execution_count": 437,
     "metadata": {},
     "output_type": "execute_result"
    }
   ],
   "source": [
    "movement_dictionary"
   ]
  },
  {
   "cell_type": "code",
   "execution_count": 438,
   "id": "e56ad548-282c-4a93-a599-dc9341329d6b",
   "metadata": {
    "tags": []
   },
   "outputs": [],
   "source": [
    "# Grabbing the cost elements\n",
    "key_value_pairs = {}\n",
    "current_key = None\n",
    "\n",
    "lines = file.split('\\n')\n",
    "for line in lines:\n",
    "    line = line.strip()\n",
    "    if line:\n",
    "        if ':' in line:\n",
    "            current_key, value = line.split(':', 1)\n",
    "            key_value_pairs[current_key.strip()] = value.strip()\n",
    "        elif current_key is not None:\n",
    "            if current_key == 'Armaments':\n",
    "                if current_key not in key_value_pairs:\n",
    "                    key_value_pairs[current_key] = line.strip()\n",
    "                else:\n",
    "                    key_value_pairs[current_key] += f', {line.strip()}'\n",
    "            else:\n",
    "                key_value_pairs[current_key] += f', {line.strip()}'"
   ]
  },
  {
   "cell_type": "code",
   "execution_count": 439,
   "id": "69f83986-7484-4c48-9fe6-85c5e6fa64f2",
   "metadata": {},
   "outputs": [],
   "source": [
    "# Creating the weapon dictionary\n",
    "keys = ['Armament']\n",
    "dict2 = {x:key_value_pairs[x] for x in keys}\n",
    "weapons = dict2['Armament'].split(',')\n",
    "\n",
    "def strip_list_noempty(mylist):\n",
    "    newlist = (item.strip() if hasattr(item, 'strip') else item for item in mylist)\n",
    "    return [item for item in newlist if item != '']\n",
    "\n",
    "weapons = strip_list_noempty(weapons)\n",
    "\n",
    "weapon_value = []\n",
    "weapon_key = []\n",
    "for i in weapons:\n",
    "    weapon_key.append(i[2:])\n",
    "    weapon_value.append(i[:1])\n",
    "weapon_dict = dict(zip(weapon_key, weapon_value))"
   ]
  },
  {
   "cell_type": "code",
   "execution_count": 440,
   "id": "49b912e8-904e-4071-b739-6d0e01dab895",
   "metadata": {},
   "outputs": [
    {
     "data": {
      "text/plain": [
       "{'ER Small Laser': '5'}"
      ]
     },
     "execution_count": 440,
     "metadata": {},
     "output_type": "execute_result"
    }
   ],
   "source": [
    "weapon_dict"
   ]
  },
  {
   "cell_type": "code",
   "execution_count": 441,
   "id": "aa86d944-25a2-4677-afdc-e5d4a6d06b08",
   "metadata": {},
   "outputs": [],
   "source": [
    "# Pulling heatsinks for overheat calculation\n",
    "heatsinks = [i for i in list_str if 'Heat Sink' in i]\n",
    "heatsinks = int(heatsinks[0][30:32])"
   ]
  },
  {
   "cell_type": "code",
   "execution_count": 442,
   "id": "df92f236-b8a3-4896-84d2-20ede470a967",
   "metadata": {},
   "outputs": [
    {
     "data": {
      "text/plain": [
       "10"
      ]
     },
     "execution_count": 442,
     "metadata": {},
     "output_type": "execute_result"
    }
   ],
   "source": [
    "heatsinks"
   ]
  },
  {
   "cell_type": "code",
   "execution_count": 443,
   "id": "f9d045b0-7107-4719-8525-07112eac529b",
   "metadata": {},
   "outputs": [],
   "source": [
    "#  Finding armor points\n",
    "armor = [i for i in list_str if 'Armor Factor' in i]\n",
    "armor = int(armor[0][30:33])"
   ]
  },
  {
   "cell_type": "code",
   "execution_count": 444,
   "id": "a8fbd01e-d9ec-401a-b35a-e14c8f7c99b1",
   "metadata": {},
   "outputs": [
    {
     "data": {
      "text/plain": [
       "96"
      ]
     },
     "execution_count": 444,
     "metadata": {},
     "output_type": "execute_result"
    }
   ],
   "source": [
    "armor"
   ]
  },
  {
   "cell_type": "code",
   "execution_count": 445,
   "id": "8319710d-42f1-48a1-b0e7-0b77cd2a8008",
   "metadata": {},
   "outputs": [],
   "source": [
    "structure =[[i for i in list_str if 'Head' in i],\n",
    "            [i for i in list_str if 'Center Torso' in i],\n",
    "            [i for i in list_str if 'R/L Torso' in i],\n",
    "            [i for i in list_str if 'R/L Arm' in i],\n",
    "            [i for i in list_str if 'R/L Leg' in i]]\n",
    "\n",
    "structure = [structure[0][0][29:30],\n",
    "             structure[1][0][29:31],\n",
    "             structure[2][0][29:31],\n",
    "             structure[3][0][29:31],\n",
    "             structure[4][0][29:31]]\n",
    "\n",
    "structure = sum([eval(i) for i in structure])"
   ]
  },
  {
   "cell_type": "code",
   "execution_count": 446,
   "id": "64b0f816-cd09-4c56-9bec-2a05bab612bb",
   "metadata": {},
   "outputs": [
    {
     "data": {
      "text/plain": [
       "32"
      ]
     },
     "execution_count": 446,
     "metadata": {},
     "output_type": "execute_result"
    }
   ],
   "source": [
    "structure"
   ]
  },
  {
   "cell_type": "code",
   "execution_count": 468,
   "id": "f4920dd0-12a9-46ea-b948-570b8832d88c",
   "metadata": {},
   "outputs": [],
   "source": [
    "#  Calculating the final outputs for the alpha strike card values\n",
    "\n",
    "armor_rating = round(armor/30)\n",
    "\n",
    "if int(attribute_dictionary['Tonnage:']) < 40:\n",
    "    SZ = 1\n",
    "if int(attribute_dictionary['Tonnage:']) >= 40 and int(attribute_dictionary['Tonnage:']) <=55:\n",
    "    SZ = 2\n",
    "if int(attribute_dictionary['Tonnage:']) >= 60 and int(attribute_dictionary['Tonnage:']) <=75:\n",
    "    SZ = 3\n",
    "if int(attribute_dictionary['Tonnage:']) >= 80:\n",
    "    SZ = 4\n",
    "\n",
    "if movement_dictionary['jumping'] == 0:\n",
    "    movement = str(movement_dictionary['walking'])+'\"'\n",
    "if movement_dictionary['jumping'] == movement_dictionary['walking']:\n",
    "     movement = str(movement_dictionary['walking'])+'\"'\n",
    "if movement_dictionary['jumping'] >= movement_dictionary['walking'] or movement_dictionary['jumping'] <= movement_dictionary['walking']:\n",
    "     movement = str(movement_dictionary['walking'])+'\"/'+str(movement_dictionary['jumping'])+'\"'\n",
    "        \n",
    "if movement_dictionary['walking'] <= 8:\n",
    "    tmm = 1\n",
    "if movement_dictionary['walking'] >= 10 and movement_dictionary['walking'] < 14:\n",
    "    tmm = 2\n",
    "if movement_dictionary['walking'] >= 14 and movement_dictionary['walking'] < 20:\n",
    "    tmm = 3\n",
    "if movement_dictionary['walking'] >= 20 and movement_dictionary['walking'] < 24:\n",
    "    tmm = 4\n",
    "if movement_dictionary['walking'] > 24:\n",
    "    tmm = 5"
   ]
  },
  {
   "cell_type": "code",
   "execution_count": 469,
   "id": "2cd2b6be-6bdc-4921-b4fd-e50ada4a16e9",
   "metadata": {},
   "outputs": [
    {
     "data": {
      "text/plain": [
       "3"
      ]
     },
     "execution_count": 469,
     "metadata": {},
     "output_type": "execute_result"
    }
   ],
   "source": [
    "tmm"
   ]
  },
  {
   "cell_type": "code",
   "execution_count": null,
   "id": "1cde7b52-60f4-4f0f-a2b4-76f4cb59587c",
   "metadata": {},
   "outputs": [],
   "source": []
  }
 ],
 "metadata": {
  "kernelspec": {
   "display_name": "Python 3 (ipykernel)",
   "language": "python",
   "name": "python3"
  },
  "language_info": {
   "codemirror_mode": {
    "name": "ipython",
    "version": 3
   },
   "file_extension": ".py",
   "mimetype": "text/x-python",
   "name": "python",
   "nbconvert_exporter": "python",
   "pygments_lexer": "ipython3",
   "version": "3.9.7"
  }
 },
 "nbformat": 4,
 "nbformat_minor": 5
}
