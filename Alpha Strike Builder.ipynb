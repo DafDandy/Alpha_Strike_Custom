{
 "cells": [
  {
   "cell_type": "code",
   "execution_count": 203,
   "id": "cbd43fa0",
   "metadata": {},
   "outputs": [],
   "source": [
    "import re\n",
    "import pandas as pd\n",
    "import weapon_dict\n",
    "pd.set_option('display.max_rows', None)"
   ]
  },
  {
   "cell_type": "code",
   "execution_count": 294,
   "id": "db71acf0",
   "metadata": {},
   "outputs": [],
   "source": [
    "file = open(r\"C:\\Users\\ryan_\\Downloads\\Cataphract CTF-2X.txt\").read()\n",
    "list_str = file.split('\\n')\n",
    "list_str = [x for x in list_str if x != '']"
   ]
  },
  {
   "cell_type": "code",
   "execution_count": 295,
   "id": "cb687672-c9a1-4b84-995c-1a89b7c34458",
   "metadata": {
    "tags": []
   },
   "outputs": [],
   "source": [
    "attributes = []\n",
    "weapons = []\n",
    "values_interest = ['Cruising Speed','Maximum Speed','Introduction Year', 'Cost','Technology Base','Tonnage:','Battle Value']\n",
    "for i in range(len(list_str)):\n",
    "    for x in values_interest:\n",
    "        if x in list_str[i]:\n",
    "            attributes.append(list_str[i][(len(x+' ')):])\n",
    "            \n",
    "# for i in range(len(list_str)):\n",
    "#     if 'Armament:' in list_str[i]:\n",
    "#         i = i+1\n",
    "#         weapons.append(list_str[i])\n",
    "#         i = i+1\n",
    "#         if 'Manufacturer:' != list_str[i]:\n",
    "#             weapons.append(list_str[i])\n",
    "#             i = i+1\n",
    "#             if 'Manufacturer:' in list_str[i]:\n",
    "#                 break"
   ]
  },
  {
   "cell_type": "code",
   "execution_count": 296,
   "id": "e56ad548-282c-4a93-a599-dc9341329d6b",
   "metadata": {
    "tags": []
   },
   "outputs": [],
   "source": [
    "key_value_pairs = {}\n",
    "current_key = None\n",
    "\n",
    "lines = file.split('\\n')\n",
    "for line in lines:\n",
    "    line = line.strip()\n",
    "    if line:\n",
    "        if ':' in line:\n",
    "            current_key, value = line.split(':', 1)\n",
    "            key_value_pairs[current_key.strip()] = value.strip()\n",
    "        elif current_key is not None:\n",
    "            if current_key == 'Armaments':\n",
    "                if current_key not in key_value_pairs:\n",
    "                    key_value_pairs[current_key] = line.strip()\n",
    "                else:\n",
    "                    key_value_pairs[current_key] += f', {line.strip()}'\n",
    "            else:\n",
    "                key_value_pairs[current_key] += f', {line.strip()}'"
   ]
  },
  {
   "cell_type": "code",
   "execution_count": 297,
   "id": "6905ce30-3fc6-4b15-8652-f3c8460f05d1",
   "metadata": {},
   "outputs": [],
   "source": [
    "attributes = [s.strip() for s in attributes]"
   ]
  },
  {
   "cell_type": "code",
   "execution_count": 298,
   "id": "7e96d631-e88a-4264-99e9-b0490b4fd2c3",
   "metadata": {},
   "outputs": [],
   "source": [
    "attribute_dictionary = dict(zip(values_interest, attributes))"
   ]
  },
  {
   "cell_type": "code",
   "execution_count": 299,
   "id": "14036a2d-a3ca-4494-8e57-5645e5b3646e",
   "metadata": {},
   "outputs": [
    {
     "data": {
      "text/plain": [
       "{'Cruising Speed': '43.2 kph',\n",
       " 'Maximum Speed': '64.8 kph',\n",
       " 'Introduction Year': '3027',\n",
       " 'Cost': '5,877,353 C-bills',\n",
       " 'Technology Base': 'Inner Sphere (Introductory)',\n",
       " 'Tonnage:': '70',\n",
       " 'Battle Value': '1,344'}"
      ]
     },
     "execution_count": 299,
     "metadata": {},
     "output_type": "execute_result"
    }
   ],
   "source": [
    "attribute_dictionary"
   ]
  },
  {
   "cell_type": "code",
   "execution_count": 300,
   "id": "69f83986-7484-4c48-9fe6-85c5e6fa64f2",
   "metadata": {},
   "outputs": [],
   "source": [
    "keys = ['Walking MP', 'Running MP','Jumping MP','Armament']\n",
    "dict2 = {x:key_value_pairs[x] for x in keys}"
   ]
  },
  {
   "cell_type": "code",
   "execution_count": 317,
   "id": "093522a8-c182-4724-a83c-e5445138f041",
   "metadata": {},
   "outputs": [],
   "source": [
    "weapons = dict2['Armament'].split(',')"
   ]
  },
  {
   "cell_type": "code",
   "execution_count": 324,
   "id": "78cba68e-567a-4633-8d54-d2c3f7208c1e",
   "metadata": {},
   "outputs": [
    {
     "name": "stdout",
     "output_type": "stream",
     "text": [
      "[' 1 SRM 4', ' 1 Large Laser', ' 1 AC/10']\n",
      "[' 1 SRM 4', ' 1 Large Laser', ' 1 AC/10']\n",
      "[' 1 SRM 4', ' 1 Large Laser', ' 1 AC/10']\n",
      "[' 1 SRM 4', ' 1 Large Laser', ' 1 AC/10']\n",
      "[' 1 SRM 4', ' 1 Large Laser', ' 1 AC/10']\n"
     ]
    }
   ],
   "source": [
    "for i in weapons:\n",
    "    weapons[i].lstrip"
   ]
  },
  {
   "cell_type": "code",
   "execution_count": 325,
   "id": "76eb31bc-4ae9-4da5-a83c-85e589186e25",
   "metadata": {},
   "outputs": [
    {
     "data": {
      "text/plain": [
       "['', ' 2 Medium Laser', ' 1 SRM 4', ' 1 Large Laser', ' 1 AC/10']"
      ]
     },
     "execution_count": 325,
     "metadata": {},
     "output_type": "execute_result"
    }
   ],
   "source": [
    "weapons"
   ]
  },
  {
   "cell_type": "code",
   "execution_count": 318,
   "id": "1646be6f-8796-41a4-9bcc-99a836003401",
   "metadata": {},
   "outputs": [],
   "source": [
    "quantity = []\n",
    "weapon = []\n",
    "for i in weapons:\n",
    "    quantity.append(i[:1])\n",
    "for x in weapons:\n",
    "    weapon.append(x[2:])"
   ]
  },
  {
   "cell_type": "code",
   "execution_count": 319,
   "id": "692da532-0fcf-48ca-ba13-287507b2b77a",
   "metadata": {},
   "outputs": [],
   "source": [
    "weapon_dictionary = dict(zip(weapon, quantity))"
   ]
  },
  {
   "cell_type": "code",
   "execution_count": 320,
   "id": "b25edb6f-6de2-4408-a0af-72c58feccf6b",
   "metadata": {},
   "outputs": [
    {
     "data": {
      "text/plain": [
       "{'': '',\n",
       " ' Medium Laser': ' ',\n",
       " ' SRM 4': ' ',\n",
       " ' Large Laser': ' ',\n",
       " ' AC/10': ' '}"
      ]
     },
     "execution_count": 320,
     "metadata": {},
     "output_type": "execute_result"
    }
   ],
   "source": [
    "weapon_dictionary"
   ]
  },
  {
   "cell_type": "code",
   "execution_count": null,
   "id": "1a93a68b-1826-4480-92b7-4a4b3f6b3370",
   "metadata": {},
   "outputs": [],
   "source": []
  }
 ],
 "metadata": {
  "kernelspec": {
   "display_name": "Python 3 (ipykernel)",
   "language": "python",
   "name": "python3"
  },
  "language_info": {
   "codemirror_mode": {
    "name": "ipython",
    "version": 3
   },
   "file_extension": ".py",
   "mimetype": "text/x-python",
   "name": "python",
   "nbconvert_exporter": "python",
   "pygments_lexer": "ipython3",
   "version": "3.9.7"
  }
 },
 "nbformat": 4,
 "nbformat_minor": 5
}
